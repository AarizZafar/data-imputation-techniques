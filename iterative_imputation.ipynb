{
 "cells": [
  {
   "cell_type": "markdown",
   "id": "758a5a1e",
   "metadata": {},
   "source": [
    "#### Multivariate Analysis"
   ]
  },
  {
   "cell_type": "markdown",
   "id": "861a4249",
   "metadata": {},
   "source": [
    "#### For explanation to this notebook look into the images directory, iterative_imputer.jpg"
   ]
  },
  {
   "cell_type": "code",
   "execution_count": 58,
   "id": "ef99ee8e",
   "metadata": {},
   "outputs": [],
   "source": [
    "import numpy as np\n",
    "import pandas as pd\n",
    "from sklearn.experimental import enable_iterative_imputer\n",
    "from sklearn.impute import IterativeImputer\n",
    "from sklearn.datasets import make_regression\n",
    "from sklearn.datasets import fetch_openml\n",
    "from sklearn.tree import DecisionTreeRegressor"
   ]
  },
  {
   "cell_type": "code",
   "execution_count": 59,
   "id": "8f7c06d7",
   "metadata": {},
   "outputs": [
    {
     "name": "stdout",
     "output_type": "stream",
     "text": [
      "Original dataset\n"
     ]
    },
    {
     "data": {
      "text/plain": [
       "array([[-0.5028167 , -2.28862004,  0.25148442, -0.96050438, -0.51751904,\n",
       "        -0.97882986, -0.43918952,  0.18133843, -0.79311736,  2.41245368],\n",
       "       [-0.44816536, -2.00421572,  0.37687652, -0.02342311, -0.93274091,\n",
       "        -1.26306835,  0.45248909,  0.09789615,  1.07919473, -0.64933793],\n",
       "       [-0.07466798,  0.50723895, -0.1162297 ,  0.27560067,  0.36584879,\n",
       "         1.29782527,  0.48111513,  2.75935511,  1.43504939,  0.25871644]])"
      ]
     },
     "execution_count": 59,
     "metadata": {},
     "output_type": "execute_result"
    }
   ],
   "source": [
    "X, y = make_regression(n_samples=100, n_features=10, random_state=0)\n",
    "print('Original dataset')\n",
    "X[:3]"
   ]
  },
  {
   "cell_type": "code",
   "execution_count": 60,
   "id": "75afb7be",
   "metadata": {},
   "outputs": [
    {
     "name": "stdout",
     "output_type": "stream",
     "text": [
      "Original data set with missing values\n"
     ]
    },
    {
     "data": {
      "text/plain": [
       "array([[-0.5028167 , -2.28862004,  0.25148442, -0.96050438, -0.51751904,\n",
       "        -0.97882986, -0.43918952,  0.18133843, -0.79311736,  2.41245368],\n",
       "       [-0.44816536, -2.00421572,  0.37687652, -0.02342311, -0.93274091,\n",
       "        -1.26306835,  0.45248909,  0.09789615,  1.07919473, -0.64933793],\n",
       "       [-0.07466798,  0.50723895, -0.1162297 ,  0.27560067,  0.36584879,\n",
       "         1.29782527,  0.48111513,  2.75935511,  1.43504939,         nan]])"
      ]
     },
     "execution_count": 60,
     "metadata": {},
     "output_type": "execute_result"
    }
   ],
   "source": [
    "mask = np.random.rand(*X.shape) < 0.1  # 10% missing values\n",
    "X[mask] = np.nan\n",
    "\n",
    "print('Original data set with missing values')\n",
    "X[:3]"
   ]
  },
  {
   "cell_type": "code",
   "execution_count": 61,
   "id": "a60ceb58",
   "metadata": {},
   "outputs": [
    {
     "data": {
      "text/html": [
       "<div>\n",
       "<style scoped>\n",
       "    .dataframe tbody tr th:only-of-type {\n",
       "        vertical-align: middle;\n",
       "    }\n",
       "\n",
       "    .dataframe tbody tr th {\n",
       "        vertical-align: top;\n",
       "    }\n",
       "\n",
       "    .dataframe thead th {\n",
       "        text-align: right;\n",
       "    }\n",
       "</style>\n",
       "<table border=\"1\" class=\"dataframe\">\n",
       "  <thead>\n",
       "    <tr style=\"text-align: right;\">\n",
       "      <th></th>\n",
       "      <th>Married</th>\n",
       "      <th>Age</th>\n",
       "      <th>Years_of_education</th>\n",
       "      <th>Male</th>\n",
       "      <th>Religious</th>\n",
       "      <th>Sex_partners</th>\n",
       "      <th>Income</th>\n",
       "      <th>Drug_use</th>\n",
       "      <th>Same_sex_relations</th>\n",
       "    </tr>\n",
       "  </thead>\n",
       "  <tbody>\n",
       "    <tr>\n",
       "      <th>0</th>\n",
       "      <td>1</td>\n",
       "      <td>52</td>\n",
       "      <td>14</td>\n",
       "      <td>0</td>\n",
       "      <td>1</td>\n",
       "      <td>1</td>\n",
       "      <td>32500.0</td>\n",
       "      <td>0</td>\n",
       "      <td>0</td>\n",
       "    </tr>\n",
       "    <tr>\n",
       "      <th>1</th>\n",
       "      <td>0</td>\n",
       "      <td>58</td>\n",
       "      <td>16</td>\n",
       "      <td>0</td>\n",
       "      <td>1</td>\n",
       "      <td>0</td>\n",
       "      <td>21250.0</td>\n",
       "      <td>0</td>\n",
       "      <td>0</td>\n",
       "    </tr>\n",
       "    <tr>\n",
       "      <th>2</th>\n",
       "      <td>0</td>\n",
       "      <td>22</td>\n",
       "      <td>14</td>\n",
       "      <td>1</td>\n",
       "      <td>1</td>\n",
       "      <td>15</td>\n",
       "      <td>2000.0</td>\n",
       "      <td>0</td>\n",
       "      <td>0</td>\n",
       "    </tr>\n",
       "  </tbody>\n",
       "</table>\n",
       "</div>"
      ],
      "text/plain": [
       "  Married  Age  Years_of_education Male Religious  Sex_partners   Income  \\\n",
       "0       1   52                  14    0         1             1  32500.0   \n",
       "1       0   58                  16    0         1             0  21250.0   \n",
       "2       0   22                  14    1         1            15   2000.0   \n",
       "\n",
       "  Drug_use Same_sex_relations  \n",
       "0        0                  0  \n",
       "1        0                  0  \n",
       "2        0                  0  "
      ]
     },
     "execution_count": 61,
     "metadata": {},
     "output_type": "execute_result"
    }
   ],
   "source": [
# fetch_openml() - a function from sklearn.datasets that fetch datasets from OpenML.org
# data_id = 506 - this specifies a demographic dataset from OpenML
# as_frame - returns the data as a pandas dataset
    "boston = fetch_openml(data_id=506, as_frame=True)\n",
    "X = boston.data.copy()\n",
    "\n",
    "X.head(3)"
   ]
  },
  {
   "cell_type": "code",
   "execution_count": 62,
   "id": "61095eeb",
   "metadata": {},
   "outputs": [
    {
     "data": {
      "text/html": [
       "<div>\n",
       "<style scoped>\n",
       "    .dataframe tbody tr th:only-of-type {\n",
       "        vertical-align: middle;\n",
       "    }\n",
       "\n",
       "    .dataframe tbody tr th {\n",
       "        vertical-align: top;\n",
       "    }\n",
       "\n",
       "    .dataframe thead th {\n",
       "        text-align: right;\n",
       "    }\n",
       "</style>\n",
       "<table border=\"1\" class=\"dataframe\">\n",
       "  <thead>\n",
       "    <tr style=\"text-align: right;\">\n",
       "      <th></th>\n",
       "      <th>Married</th>\n",
       "      <th>Age</th>\n",
       "      <th>Years_of_education</th>\n",
       "      <th>Male</th>\n",
       "      <th>Religious</th>\n",
       "      <th>Sex_partners</th>\n",
       "      <th>Income</th>\n",
       "      <th>Drug_use</th>\n",
       "      <th>Same_sex_relations</th>\n",
       "    </tr>\n",
       "  </thead>\n",
       "  <tbody>\n",
       "    <tr>\n",
       "      <th>0</th>\n",
       "      <td>1</td>\n",
       "      <td>52.0</td>\n",
       "      <td>NaN</td>\n",
       "      <td>NaN</td>\n",
       "      <td>1</td>\n",
       "      <td>1.0</td>\n",
       "      <td>32500.0</td>\n",
       "      <td>0</td>\n",
       "      <td>0</td>\n",
       "    </tr>\n",
       "    <tr>\n",
       "      <th>1</th>\n",
       "      <td>0</td>\n",
       "      <td>58.0</td>\n",
       "      <td>NaN</td>\n",
       "      <td>0</td>\n",
       "      <td>NaN</td>\n",
       "      <td>0.0</td>\n",
       "      <td>21250.0</td>\n",
       "      <td>0</td>\n",
       "      <td>0</td>\n",
       "    </tr>\n",
       "    <tr>\n",
       "      <th>2</th>\n",
       "      <td>0</td>\n",
       "      <td>22.0</td>\n",
       "      <td>NaN</td>\n",
       "      <td>1</td>\n",
       "      <td>1</td>\n",
       "      <td>15.0</td>\n",
       "      <td>2000.0</td>\n",
       "      <td>0</td>\n",
       "      <td>0</td>\n",
       "    </tr>\n",
       "  </tbody>\n",
       "</table>\n",
       "</div>"
      ],
      "text/plain": [
       "  Married   Age  Years_of_education Male Religious  Sex_partners   Income  \\\n",
       "0       1  52.0                 NaN  NaN         1           1.0  32500.0   \n",
       "1       0  58.0                 NaN    0       NaN           0.0  21250.0   \n",
       "2       0  22.0                 NaN    1         1          15.0   2000.0   \n",
       "\n",
       "  Drug_use Same_sex_relations  \n",
       "0        0                  0  \n",
       "1        0                  0  \n",
       "2        0                  0  "
      ]
     },
     "execution_count": 62,
     "metadata": {},
     "output_type": "execute_result"
    }
   ],
   "source": [
    "rng = np.random.default_rng(seed=0)                # creates a random number generator \n",
    "missing_mask = rng.random(X.shape) < 0.1           # 10 of the dataset will be marker as missing\n",
    "X[missing_mask] = np.nan\n",
    "X[:3]"
   ]
  },
  {
   "cell_type": "code",
   "execution_count": 63,
   "id": "786d9882",
   "metadata": {},
   "outputs": [
    {
     "name": "stderr",
     "output_type": "stream",
     "text": [
      "c:\\Users\\aariz\\.pyenv\\pyenv-win\\versions\\3.12.8\\Lib\\site-packages\\sklearn\\impute\\_iterative.py:895: ConvergenceWarning: [IterativeImputer] Early stopping criterion not reached.\n",
      "  warnings.warn(\n"
     ]
    },
    {
     "data": {
      "text/html": [
       "<div>\n",
       "<style scoped>\n",
       "    .dataframe tbody tr th:only-of-type {\n",
       "        vertical-align: middle;\n",
       "    }\n",
       "\n",
       "    .dataframe tbody tr th {\n",
       "        vertical-align: top;\n",
       "    }\n",
       "\n",
       "    .dataframe thead th {\n",
       "        text-align: right;\n",
       "    }\n",
       "</style>\n",
       "<table border=\"1\" class=\"dataframe\">\n",
       "  <thead>\n",
       "    <tr style=\"text-align: right;\">\n",
       "      <th></th>\n",
       "      <th>Married</th>\n",
       "      <th>Age</th>\n",
       "      <th>Years_of_education</th>\n",
       "      <th>Male</th>\n",
       "      <th>Religious</th>\n",
       "      <th>Sex_partners</th>\n",
       "      <th>Income</th>\n",
       "      <th>Drug_use</th>\n",
       "      <th>Same_sex_relations</th>\n",
       "    </tr>\n",
       "  </thead>\n",
       "  <tbody>\n",
       "    <tr>\n",
       "      <th>0</th>\n",
       "      <td>1.0</td>\n",
       "      <td>52.0</td>\n",
       "      <td>10.0</td>\n",
       "      <td>1.0</td>\n",
       "      <td>1.0</td>\n",
       "      <td>1.0</td>\n",
       "      <td>32500.0</td>\n",
       "      <td>0.0</td>\n",
       "      <td>0.0</td>\n",
       "    </tr>\n",
       "    <tr>\n",
       "      <th>1</th>\n",
       "      <td>0.0</td>\n",
       "      <td>58.0</td>\n",
       "      <td>14.0</td>\n",
       "      <td>0.0</td>\n",
       "      <td>1.0</td>\n",
       "      <td>0.0</td>\n",
       "      <td>21250.0</td>\n",
       "      <td>0.0</td>\n",
       "      <td>0.0</td>\n",
       "    </tr>\n",
       "    <tr>\n",
       "      <th>2</th>\n",
       "      <td>0.0</td>\n",
       "      <td>22.0</td>\n",
       "      <td>16.0</td>\n",
       "      <td>1.0</td>\n",
       "      <td>1.0</td>\n",
       "      <td>15.0</td>\n",
       "      <td>2000.0</td>\n",
       "      <td>0.0</td>\n",
       "      <td>0.0</td>\n",
       "    </tr>\n",
       "  </tbody>\n",
       "</table>\n",
       "</div>"
      ],
      "text/plain": [
       "   Married   Age  Years_of_education  Male  Religious  Sex_partners   Income  \\\n",
       "0      1.0  52.0                10.0   1.0        1.0           1.0  32500.0   \n",
       "1      0.0  58.0                14.0   0.0        1.0           0.0  21250.0   \n",
       "2      0.0  22.0                16.0   1.0        1.0          15.0   2000.0   \n",
       "\n",
       "   Drug_use  Same_sex_relations  \n",
       "0       0.0                 0.0  \n",
       "1       0.0                 0.0  \n",
       "2       0.0                 0.0  "
      ]
     },
     "execution_count": 63,
     "metadata": {},
     "output_type": "execute_result"
    }
   ],
   "source": [
    "# Initialize IterativeImputer with DecisionTreeRegressor\n",
    "imputer = IterativeImputer(estimator=DecisionTreeRegressor(), max_iter=10, random_state=0)\n",
    "imputed_data = imputer.fit_transform(X)\n",
    "imputed_df = pd.DataFrame(imputed_data, columns=X.columns)\n",
    "imputed_df.head(3)"
   ]
  }
 ],
 "metadata": {
  "kernelspec": {
   "display_name": "Python 3",
   "language": "python",
   "name": "python3"
  },
  "language_info": {
   "codemirror_mode": {
    "name": "ipython",
    "version": 3
   },
   "file_extension": ".py",
   "mimetype": "text/x-python",
   "name": "python",
   "nbconvert_exporter": "python",
   "pygments_lexer": "ipython3",
   "version": "3.12.8"
  }
 },
 "nbformat": 4,
 "nbformat_minor": 5
}
