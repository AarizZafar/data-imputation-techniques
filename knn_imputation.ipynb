{
 "cells": [
  {
   "cell_type": "markdown",
   "id": "2b5265da",
   "metadata": {},
   "source": [
    "#### Multivariate Analysis"
   ]
  },
  {
   "cell_type": "markdown",
   "id": "a91fe108",
   "metadata": {},
   "source": [
    "#### For explanation to this notebook look into the images directory, knn_imputer.jpg"
   ]
  },
  {
   "cell_type": "code",
   "execution_count": 48,
   "id": "19de6392",
   "metadata": {},
   "outputs": [],
   "source": [
    "import numpy as np\n",
    "import pandas as pd\n",
    "import polars as pl\n",
    "\n",
    "from sklearn.model_selection import train_test_split\n",
    "from sklearn.impute import MissingIndicator,SimpleImputer\n",
    "from sklearn.linear_model import LogisticRegression\n",
    "from sklearn.metrics import accuracy_score\n",
    "from sklearn.impute import KNNImputer,SimpleImputer"
   ]
  },
  {
   "cell_type": "code",
   "execution_count": 49,
   "id": "b2ba056c",
   "metadata": {},
   "outputs": [
    {
     "data": {
      "text/html": [
       "<div><style>\n",
       ".dataframe > thead > tr,\n",
       ".dataframe > tbody > tr {\n",
       "  text-align: right;\n",
       "  white-space: pre-wrap;\n",
       "}\n",
       "</style>\n",
       "<small>shape: (5, 3)</small><table border=\"1\" class=\"dataframe\"><thead><tr><th>Survived</th><th>Age</th><th>Fare</th></tr><tr><td>i64</td><td>f64</td><td>f64</td></tr></thead><tbody><tr><td>0</td><td>22.0</td><td>7.25</td></tr><tr><td>1</td><td>38.0</td><td>71.2833</td></tr><tr><td>1</td><td>26.0</td><td>7.925</td></tr><tr><td>1</td><td>35.0</td><td>53.1</td></tr><tr><td>0</td><td>35.0</td><td>8.05</td></tr></tbody></table></div>"
      ],
      "text/plain": [
       "shape: (5, 3)\n",
       "┌──────────┬──────┬─────────┐\n",
       "│ Survived ┆ Age  ┆ Fare    │\n",
       "│ ---      ┆ ---  ┆ ---     │\n",
       "│ i64      ┆ f64  ┆ f64     │\n",
       "╞══════════╪══════╪═════════╡\n",
       "│ 0        ┆ 22.0 ┆ 7.25    │\n",
       "│ 1        ┆ 38.0 ┆ 71.2833 │\n",
       "│ 1        ┆ 26.0 ┆ 7.925   │\n",
       "│ 1        ┆ 35.0 ┆ 53.1    │\n",
       "│ 0        ┆ 35.0 ┆ 8.05    │\n",
       "└──────────┴──────┴─────────┘"
      ]
     },
     "execution_count": 49,
     "metadata": {},
     "output_type": "execute_result"
    }
   ],
   "source": [
    "df = pl.read_csv(\"Data_set/train_1.csv\", columns=[\"Age\", \"Fare\", \"Survived\"])\n",
    "df.head()"
   ]
  },
  {
   "cell_type": "code",
   "execution_count": 50,
   "id": "caf45f17",
   "metadata": {},
   "outputs": [
    {
     "data": {
      "text/html": [
       "<div><style>\n",
       ".dataframe > thead > tr,\n",
       ".dataframe > tbody > tr {\n",
       "  text-align: right;\n",
       "  white-space: pre-wrap;\n",
       "}\n",
       "</style>\n",
       "<small>shape: (1, 3)</small><table border=\"1\" class=\"dataframe\"><thead><tr><th>Survived</th><th>Age</th><th>Fare</th></tr><tr><td>f64</td><td>f64</td><td>f64</td></tr></thead><tbody><tr><td>0.0</td><td>19.86532</td><td>0.0</td></tr></tbody></table></div>"
      ],
      "text/plain": [
       "shape: (1, 3)\n",
       "┌──────────┬──────────┬──────┐\n",
       "│ Survived ┆ Age      ┆ Fare │\n",
       "│ ---      ┆ ---      ┆ ---  │\n",
       "│ f64      ┆ f64      ┆ f64  │\n",
       "╞══════════╪══════════╪══════╡\n",
       "│ 0.0      ┆ 19.86532 ┆ 0.0  │\n",
       "└──────────┴──────────┴──────┘"
      ]
     },
     "execution_count": 50,
     "metadata": {},
     "output_type": "execute_result"
    }
   ],
   "source": [
    "df.select([\n",
    "    pl.col(col).is_null().mean().alias(col) * 100\n",
    "    for col in df.columns\n",
    "])"
   ]
  },
  {
   "cell_type": "code",
   "execution_count": 51,
   "id": "a70acd72",
   "metadata": {},
   "outputs": [],
   "source": [
    "X = df.drop(\"Survived\")\n",
    "y = df.select(\"Survived\")"
   ]
  },
  {
   "cell_type": "code",
   "execution_count": 52,
   "id": "c38001c9",
   "metadata": {},
   "outputs": [],
   "source": [
    "X_train, X_test, y_train, y_test = train_test_split(X, y, test_size=0.2, random_state=2)\n",
    "\n",
    "y_train = y_train.to_numpy().ravel()\n",
    "y_test = y_test.to_numpy().ravel()\n"
   ]
  },
  {
   "cell_type": "code",
   "execution_count": 53,
   "id": "c6a40410",
   "metadata": {},
   "outputs": [
    {
     "name": "stdout",
     "output_type": "stream",
     "text": [
      "1 -> 0.6033519553072626\n",
      "2 -> 0.6089385474860335\n",
      "3 -> 0.6033519553072626\n",
      "4 -> 0.6145251396648045\n",
      "5 -> 0.6089385474860335\n",
      "6 -> 0.6145251396648045\n",
      "7 -> 0.6145251396648045\n",
      "8 -> 0.6145251396648045\n",
      "9 -> 0.6089385474860335\n",
      "10 -> 0.6089385474860335\n"
     ]
    }
   ],
   "source": [
    "for i in range(1, 11):\n",
    "    knn = KNNImputer(n_neighbors=i, weights='distance')\n",
    "\n",
    "    X_train_trf    = knn.fit_transform(X_train)\n",
    "    X_test_trf     = knn.transform(X_test)\n",
    "    \n",
    "    lr = LogisticRegression()\n",
    "    lr.fit(X_train_trf,y_train)\n",
    "    y_pred = lr.predict(X_test_trf)\n",
    "\n",
    "    print(i,'->', accuracy_score(y_test,y_pred))"
   ]
  },
  {
   "cell_type": "code",
   "execution_count": 54,
   "id": "c6f8b80a",
   "metadata": {},
   "outputs": [],
   "source": [
    "knn = KNNImputer(n_neighbors=4,weights='distance')\n",
    "\n",
    "X_train_trf    = knn.fit_transform(X_train)\n",
    "X_test_trf     = knn.transform(X_test)"
   ]
  },
  {
   "cell_type": "code",
   "execution_count": 55,
   "id": "14eb263e",
   "metadata": {},
   "outputs": [
    {
     "data": {
      "text/plain": [
       "0.6145251396648045"
      ]
     },
     "execution_count": 55,
     "metadata": {},
     "output_type": "execute_result"
    }
   ],
   "source": [
    "lr = LogisticRegression()\n",
    "lr.fit(X_train_trf,y_train)\n",
    "y_pred = lr.predict(X_test_trf)\n",
    "\n",
    "accuracy_score(y_test,y_pred)"
   ]
  },
  {
   "cell_type": "code",
   "execution_count": 56,
   "id": "abc2ad4f",
   "metadata": {},
   "outputs": [],
   "source": [
    "si = SimpleImputer()\n",
    "\n",
    "X_train_trf2  = si.fit_transform(X_train)\n",
    "X_test_trf2   = si.transform(X_test)"
   ]
  },
  {
   "cell_type": "code",
   "execution_count": 57,
   "id": "fe0e4b22",
   "metadata": {},
   "outputs": [
    {
     "data": {
      "text/plain": [
       "0.6145251396648045"
      ]
     },
     "execution_count": 57,
     "metadata": {},
     "output_type": "execute_result"
    }
   ],
   "source": [
    "lr = LogisticRegression()\n",
    "lr.fit(X_train_trf2,y_train)\n",
    "y_pred2 = lr.predict(X_test_trf2)\n",
    "\n",
    "accuracy_score(y_test,y_pred2)"
   ]
  }
 ],
 "metadata": {
  "kernelspec": {
   "display_name": "Python 3",
   "language": "python",
   "name": "python3"
  },
  "language_info": {
   "codemirror_mode": {
    "name": "ipython",
    "version": 3
   },
   "file_extension": ".py",
   "mimetype": "text/x-python",
   "name": "python",
   "nbconvert_exporter": "python",
   "pygments_lexer": "ipython3",
   "version": "3.12.8"
  }
 },
 "nbformat": 4,
 "nbformat_minor": 5
}
