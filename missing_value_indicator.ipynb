{
 "cells": [
  {
   "cell_type": "markdown",
   "id": "07557753",
   "metadata": {},
   "source": [
    "#### Univariate Analysis"
   ]
  },
  {
   "cell_type": "markdown",
   "id": "e8fb3798",
   "metadata": {},
   "source": [
    "### 📌 Missing Indicator Technique\n",
    "\n",
    "Using the **missing indicator technique**, we create an **additional column** for each feature with missing values. This new column contains:\n",
    "\n",
    "- `True` → if the original value is missing (`NaN`)\n",
    "- `False` → if the original value is present\n",
    "\n",
    "This gives the model extra context about missingness, which can sometimes improve accuracy — especially if the fact that a value is missing is itself meaningful.\n",
    "\n",
    "---\n",
    "\n",
    "#### 🧪 Example:\n",
    "\n",
    "Original data:\n",
    "\n",
    "| Age | Fare |\n",
    "|-----|------|\n",
    "| 22  | 7.25 |\n",
    "| NaN | 8.05 |\n",
    "| 24  | NaN  |\n",
    "\n",
    "After applying missing indicators:\n",
    "\n",
    "| Age | Age_missing | Fare | Fare_missing |\n",
    "|-----|-------------|------|---------------|\n",
    "| 22  | False       | 7.25 | False         |\n",
    "| NaN | True        | 8.05 | False         |\n",
    "| 24  | False       | NaN  | True          |\n",
    "\n",
    "You can then **impute the missing values** (e.g., with the mean), and keep these `_missing` columns as **features** for your model.\n"
   ]
  },
  {
   "cell_type": "code",
   "execution_count": 25,
   "id": "61c8de39",
   "metadata": {},
   "outputs": [],
   "source": [
    "import numpy as np\n",
    "import pandas as pd\n",
    "import polars as pl\n",
    "\n",
    "from sklearn.model_selection import train_test_split\n",
from sklearn.impute import MissingIndicator,SimpleImputer
 from sklearn.linear_model import LogisticRegression
 from sklearn.metrics import accuracy_score
   ]
  },
  {
   "cell_type": "code",
   "execution_count": 7,
   "id": "9cf3e441",
   "metadata": {},
   "outputs": [
    {
     "data": {
      "text/html": [
       "<div><style>\n",
       ".dataframe > thead > tr,\n",
       ".dataframe > tbody > tr {\n",
       "  text-align: right;\n",
       "  white-space: pre-wrap;\n",
       "}\n",
       "</style>\n",
       "<small>shape: (5, 3)</small><table border=\"1\" class=\"dataframe\"><thead><tr><th>Survived</th><th>Age</th><th>Fare</th></tr><tr><td>i64</td><td>f64</td><td>f64</td></tr></thead><tbody><tr><td>0</td><td>22.0</td><td>7.25</td></tr><tr><td>1</td><td>38.0</td><td>71.2833</td></tr><tr><td>1</td><td>26.0</td><td>7.925</td></tr><tr><td>1</td><td>35.0</td><td>53.1</td></tr><tr><td>0</td><td>35.0</td><td>8.05</td></tr></tbody></table></div>"
      ],
      "text/plain": [
       "shape: (5, 3)\n",
       "┌──────────┬──────┬─────────┐\n",
       "│ Survived ┆ Age  ┆ Fare    │\n",
       "│ ---      ┆ ---  ┆ ---     │\n",
       "│ i64      ┆ f64  ┆ f64     │\n",
       "╞══════════╪══════╪═════════╡\n",
       "│ 0        ┆ 22.0 ┆ 7.25    │\n",
       "│ 1        ┆ 38.0 ┆ 71.2833 │\n",
       "│ 1        ┆ 26.0 ┆ 7.925   │\n",
       "│ 1        ┆ 35.0 ┆ 53.1    │\n",
       "│ 0        ┆ 35.0 ┆ 8.05    │\n",
       "└──────────┴──────┴─────────┘"
      ]
     },
     "execution_count": 7,
     "metadata": {},
     "output_type": "execute_result"
    }
   ],
   "source": [
    "df = pl.read_csv(\"Data_set/train_1.csv\", columns=[\"Age\", \"Fare\", \"Survived\"])\n",
    "df.head()"
   ]
  },
  {
   "cell_type": "code",
   "execution_count": 8,
   "id": "f41cfe25",
   "metadata": {},
   "outputs": [],
   "source": [
    "x = df.select([col for col in df.columns if col != \"Survived\"])\n",
    "y = df.select(\"Survived\")"
   ]
  },
  {
   "cell_type": "code",
   "execution_count": 9,
   "id": "c85b9f34",
   "metadata": {},
   "outputs": [],
   "source": [
    "x_train,x_test,y_train,y_test = train_test_split(x,y,test_size=0.2,random_state=2)"
   ]
  },
  {
   "cell_type": "code",
   "execution_count": null,
   "id": "958371bf",
   "metadata": {},
   "outputs": [],
   "source": [
    "si             = SimpleImputer()            # by default it replaces all the null values with mean \n",
    "X_train_trf    = si.fit_transform(x_train)\n",
    "X_test_trf     = si.transform(x_test)"
   ]
  },
  {
   "cell_type": "markdown",
   "id": "9a9a9c0e",
   "metadata": {},
   "source": [
    "The logistic regression model is beeing fit the training data set where the null values are filled with the mean. "
   ]
  },
  {
   "cell_type": "code",
   "execution_count": null,
   "id": "679ba339",
   "metadata": {},
   "outputs": [
    {
     "data": {
      "text/plain": [
       "0.6145251396648045"
      ]
     },
     "execution_count": 147,
     "metadata": {},
     "output_type": "execute_result"
    }
   ],
   "source": [
    "clf = LogisticRegression()\n",
    "clf.fit(X_train_trf,y_train)\n",
    "y_pred = clf.predict(X_test_trf)\n",
    "\n",
    "accuracy_score(y_test,y_pred)"
   ]
  },
  {
   "cell_type": "markdown",
   "id": "e05a77c4",
   "metadata": {},
   "source": [
    "Using the simple imputer we received an accuracy score of 0.61\n",
    "\n",
    "---"
   ]
  },
  {
   "cell_type": "markdown",
   "id": "9dd10ed7",
   "metadata": {},
   "source": [
    "Using the MISSING INDICATOR"
   ]
  },
  {
   "cell_type": "code",
   "execution_count": 22,
   "id": "ef8ddf03",
   "metadata": {},
   "outputs": [],
   "source": [
    "# Create missing indicator columns\n",
    "x_train = x_train.with_columns([\n",
    "    pl.col(\"Age\").is_null().alias(\"Age_NA\")\n",
    "])\n",
    "\n",
    "x_test = x_test.with_columns([\n",
    "    pl.col(\"Age\").is_null().alias(\"Age_NA\")\n",
    "])\n"
   ]
  },
  {
   "cell_type": "markdown",
   "id": "2d81c6fd",
   "metadata": {},
   "source": [
    "we have added the missing value indicator now we will fill the missing values with mean"
   ]
  },
  {
   "cell_type": "code",
   "execution_count": 24,
   "id": "3b17b835",
   "metadata": {},
   "outputs": [],
   "source": [
    "si = SimpleImputer()\n",
    "\n",
    "X_train_trf2   = si.fit_transform(x_train)\n",
    "X_test_trf2    = si.transform(x_test)"
   ]
  },
  {
   "cell_type": "code",
   "execution_count": null,
   "id": "57d50f6e",
   "metadata": {},
   "outputs": [
    {
     "data": {
      "text/plain": [
       "0.6312849162011173"
      ]
     },
     "execution_count": 154,
     "metadata": {},
     "output_type": "execute_result"
    }
   ],
   "source": [
    "clf = LogisticRegression()\n",
    "clf.fit(X_train_trf2,y_train)\n",
    "y_pred = clf.predict(X_test_trf2)\n",
    "    \n",
    "accuracy_score(y_test,y_pred)"
   ]
  },
  {
   "cell_type": "markdown",
   "id": "26abeb14",
   "metadata": {},
   "source": [
    "When we use the missing value indicator we are able to achieve a higher accuracy score"
   ]
  }
 ],
 "metadata": {
  "kernelspec": {
   "display_name": "Python 3",
   "language": "python",
   "name": "python3"
  },
  "language_info": {
   "codemirror_mode": {
    "name": "ipython",
    "version": 3
   },
   "file_extension": ".py",
   "mimetype": "text/x-python",
   "name": "python",
   "nbconvert_exporter": "python",
   "pygments_lexer": "ipython3",
   "version": "3.12.8"
  }
 },
 "nbformat": 4,
 "nbformat_minor": 5
}
